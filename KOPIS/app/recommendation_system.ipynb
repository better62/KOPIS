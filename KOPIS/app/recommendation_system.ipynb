{
 "cells": [
  {
   "cell_type": "code",
   "execution_count": 20,
   "metadata": {},
   "outputs": [],
   "source": [
    "import pandas as pd\n",
    "import numpy as np\n",
    "import glob\n",
    "from sklearn.preprocessing import OneHotEncoder, StandardScaler\n",
    "from sklearn.compose import ColumnTransformer\n",
    "from sklearn.pipeline import Pipeline\n",
    "from sklearn.metrics.pairwise import cosine_similarity\n",
    "\n"
   ]
  },
  {
   "cell_type": "markdown",
   "metadata": {},
   "source": [
    "# 데이터 전처리\n"
   ]
  },
  {
   "cell_type": "code",
   "execution_count": 21,
   "metadata": {},
   "outputs": [],
   "source": [
    "directory_path = '/Volumes/MGTEC/(KOPIS) 공모전 데이터 추출/19년 하반기_22년(추출일자 230515)/(신규장르) 19년 하반기_22년(230515)/22년/'\n",
    "excel_files = glob.glob(directory_path + \"*.xlsx\")\n",
    "dataframes = []"
   ]
  },
  {
   "cell_type": "code",
   "execution_count": 22,
   "metadata": {},
   "outputs": [],
   "source": [
    "for file in excel_files:\n",
    "    df = pd.read_excel(file, usecols=['공연코드', '성별', '연령', '장르명', '공연지역명', '장당금액'])\n",
    "    dataframes.append(df)"
   ]
  },
  {
   "cell_type": "code",
   "execution_count": 23,
   "metadata": {},
   "outputs": [],
   "source": [
    "df = pd.concat(dataframes, ignore_index=True)"
   ]
  },
  {
   "cell_type": "code",
   "execution_count": 24,
   "metadata": {},
   "outputs": [],
   "source": [
    "df = df[df['장당금액'] > 0]"
   ]
  },
  {
   "cell_type": "code",
   "execution_count": 25,
   "metadata": {},
   "outputs": [],
   "source": [
    "df = df[df['연령'] != 0]"
   ]
  },
  {
   "cell_type": "markdown",
   "metadata": {},
   "source": [
    "# 추천 모델 생성"
   ]
  },
  {
   "cell_type": "code",
   "execution_count": 26,
   "metadata": {},
   "outputs": [],
   "source": [
    "categorical_features = ['성별', '장르명', '공연지역명']\n",
    "numerical_features = ['연령', '장당금액']"
   ]
  },
  {
   "cell_type": "code",
   "execution_count": 27,
   "metadata": {},
   "outputs": [],
   "source": [
    "preprocessor = ColumnTransformer(\n",
    "    transformers=[\n",
    "        ('cat', OneHotEncoder(handle_unknown='ignore'), categorical_features),\n",
    "        ('num', StandardScaler(), numerical_features)\n",
    "    ]\n",
    ")"
   ]
  },
  {
   "cell_type": "code",
   "execution_count": 28,
   "metadata": {},
   "outputs": [],
   "source": [
    "class RecommendationModel:\n",
    "    def __init__(self, preprocessor, data, target_col='공연코드'):\n",
    "        self.preprocessor = preprocessor\n",
    "        self.data = data\n",
    "        self.target_col = target_col\n",
    "        self.features = self.data.drop(columns=[self.target_col])\n",
    "\n",
    "    def recommend(self, user_df, top_n=5):\n",
    "        # 데이터 전처리\n",
    "        transformed_data = self.preprocessor.fit_transform(self.features)\n",
    "        transformed_user = self.preprocessor.transform(user_df)\n",
    "\n",
    "        # 코사인 유사도 계산\n",
    "        similarities = cosine_similarity(transformed_user, transformed_data)\n",
    "\n",
    "        # 유사도가 높은 상위 n개의 인덱스 추출\n",
    "        top_indices = similarities[0].argsort()[-top_n:][::-1]\n",
    "\n",
    "        # 추천 공연 코드 추출\n",
    "        recommendations = self.data.iloc[top_indices][self.target_col]\n",
    "        return recommendations"
   ]
  },
  {
   "cell_type": "markdown",
   "metadata": {},
   "source": [
    "# 테스트"
   ]
  },
  {
   "cell_type": "code",
   "execution_count": 29,
   "metadata": {},
   "outputs": [],
   "source": [
    "recommendation_pipeline = RecommendationModel(preprocessor=preprocessor, data=df)"
   ]
  },
  {
   "cell_type": "code",
   "execution_count": 30,
   "metadata": {},
   "outputs": [],
   "source": [
    "user_input = {\n",
    "    '성별': [1],\n",
    "    '연령': [1955],\n",
    "    '장르명': ['뮤지컬'],\n",
    "    '공연지역명': ['인천'],\n",
    "    '장당금액': [12000]\n",
    "}\n",
    "\n",
    "# 사용자 입력을 DataFrame으로 변환\n",
    "user_df = pd.DataFrame(user_input)"
   ]
  },
  {
   "cell_type": "code",
   "execution_count": 31,
   "metadata": {},
   "outputs": [
    {
     "name": "stdout",
     "output_type": "stream",
     "text": [
      "추천 공연 코드: ['PF307212' 'PF300165' 'PF300165' 'PF307212' 'PF307212']\n"
     ]
    }
   ],
   "source": [
    "top_5_recommendations = recommendation_pipeline.recommend(user_df, top_n=5)\n",
    "print(\"추천 공연 코드:\", top_5_recommendations.values)"
   ]
  },
  {
   "cell_type": "markdown",
   "metadata": {},
   "source": [
    "# 모델 저장"
   ]
  },
  {
   "cell_type": "code",
   "execution_count": 33,
   "metadata": {},
   "outputs": [
    {
     "data": {
      "text/plain": [
       "['/Users/lne/Downloads/KOPIS/model/performance_codes.joblib']"
      ]
     },
     "execution_count": 33,
     "metadata": {},
     "output_type": "execute_result"
    }
   ],
   "source": [
    "from joblib import dump, load\n",
    "\n",
    "\n",
    "transformed_data = preprocessor.fit_transform(df.drop(columns=['공연코드']))\n",
    "performance_codes = df['공연코드'].tolist()\n",
    "\n",
    "\n",
    "dump(preprocessor, '/Users/lne/Downloads/KOPIS/model/preprocessor.joblib')\n",
    "dump(transformed_data, '/Users/lne/Downloads/KOPIS/model/transformed_data.joblib')\n",
    "dump(performance_codes, '/Users/lne/Downloads/KOPIS/model/performance_codes.joblib')"
   ]
  },
  {
   "cell_type": "markdown",
   "metadata": {},
   "source": [
    "# 테스트"
   ]
  },
  {
   "cell_type": "code",
   "execution_count": 34,
   "metadata": {},
   "outputs": [],
   "source": [
    "from joblib import load\n",
    "import pandas as pd\n",
    "from sklearn.metrics.pairwise import cosine_similarity"
   ]
  },
  {
   "cell_type": "code",
   "execution_count": 35,
   "metadata": {},
   "outputs": [],
   "source": [
    "preprocessor = load('/Users/lne/Downloads/KOPIS/model/preprocessor.joblib')\n",
    "transformed_data = load('/Users/lne/Downloads/KOPIS/model/transformed_data.joblib')\n",
    "performance_codes = load('/Users/lne/Downloads/KOPIS/model/performance_codes.joblib')"
   ]
  },
  {
   "cell_type": "code",
   "execution_count": 36,
   "metadata": {},
   "outputs": [],
   "source": [
    "# 추천 함수 정의\n",
    "def recommend(user_df, transformed_data, performance_codes, preprocessor, top_n=5):\n",
    "    # 새 사용자 데이터 전처리\n",
    "    transformed_user = preprocessor.transform(user_df)\n",
    "    \n",
    "    # 코사인 유사도 계산\n",
    "    similarities = cosine_similarity(transformed_user, transformed_data)\n",
    "\n",
    "    # 유사도가 높은 상위 n개의 인덱스 추출\n",
    "    top_indices = similarities[0].argsort()[-top_n:][::-1]\n",
    "\n",
    "    # 추천 공연 코드 추출\n",
    "    recommendations = [performance_codes[i] for i in top_indices]\n",
    "    recommendations = set(list(recommendations))\n",
    "\n",
    "    return recommendations"
   ]
  },
  {
   "cell_type": "code",
   "execution_count": 37,
   "metadata": {},
   "outputs": [
    {
     "name": "stdout",
     "output_type": "stream",
     "text": [
      "추천 공연 코드: {'PF307212', 'PF300165'}\n"
     ]
    }
   ],
   "source": [
    "user_input = {\n",
    "    '성별': [1],\n",
    "    '연령': [1955],\n",
    "    '장르명': ['뮤지컬'],\n",
    "    '공연지역명': ['인천'],\n",
    "    '장당금액': [12000]\n",
    "}\n",
    "user_df = pd.DataFrame(user_input)\n",
    "\n",
    "# 추천 수행\n",
    "top_5_recommendations = recommend(user_df, transformed_data, performance_codes, preprocessor, top_n=5)\n",
    "print(\"추천 공연 코드:\", top_5_recommendations)"
   ]
  }
 ],
 "metadata": {
  "kernelspec": {
   "display_name": "Python 3",
   "language": "python",
   "name": "python3"
  },
  "language_info": {
   "codemirror_mode": {
    "name": "ipython",
    "version": 3
   },
   "file_extension": ".py",
   "mimetype": "text/x-python",
   "name": "python",
   "nbconvert_exporter": "python",
   "pygments_lexer": "ipython3",
   "version": "3.10.7"
  },
  "orig_nbformat": 4
 },
 "nbformat": 4,
 "nbformat_minor": 2
}
