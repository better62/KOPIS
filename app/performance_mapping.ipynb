{
 "cells": [
  {
   "cell_type": "code",
   "execution_count": 5,
   "metadata": {},
   "outputs": [],
   "source": [
    "import requests\n",
    "import xml.etree.ElementTree as ET"
   ]
  },
  {
   "cell_type": "code",
   "execution_count": 62,
   "metadata": {},
   "outputs": [],
   "source": [
    "service_key = \"9e01c797c9504aa68b51104412042f2a\""
   ]
  },
  {
   "cell_type": "code",
   "execution_count": 67,
   "metadata": {},
   "outputs": [],
   "source": [
    "name = \"킹키부츠\""
   ]
  },
  {
   "cell_type": "code",
   "execution_count": 68,
   "metadata": {},
   "outputs": [],
   "source": [
    "url = \"http://www.kopis.or.kr/openApi/restful/prfstsPrfBy?service={}&cpage=1&rows=1&stdate=20160601&eddate=20240830&shcate=GGGA&shprfnm={}\".format(service_key, name)"
   ]
  },
  {
   "cell_type": "code",
   "execution_count": 69,
   "metadata": {},
   "outputs": [],
   "source": [
    "response = requests.get(url)"
   ]
  },
  {
   "cell_type": "code",
   "execution_count": 70,
   "metadata": {},
   "outputs": [
    {
     "name": "stdout",
     "output_type": "stream",
     "text": [
      "PF246902\n",
      "NOL 스테이지, 뮤지컬 킹키부츠 미니콘서트\n",
      "현대카드 언더스테이지\n",
      "1\n",
      "(주)CJ ENM\n",
      "뮤지컬\n",
      "2024.08.18\n",
      "2024.08.18\n"
     ]
    }
   ],
   "source": [
    "if response.status_code == 200:\n",
    "    root = ET.fromstring(response.content)\n",
    "    for child in root:\n",
    "        for c in child:\n",
    "            print(c.text)"
   ]
  },
  {
   "cell_type": "code",
   "execution_count": null,
   "metadata": {},
   "outputs": [],
   "source": []
  }
 ],
 "metadata": {
  "kernelspec": {
   "display_name": "kopis",
   "language": "python",
   "name": "python3"
  },
  "language_info": {
   "codemirror_mode": {
    "name": "ipython",
    "version": 3
   },
   "file_extension": ".py",
   "mimetype": "text/x-python",
   "name": "python",
   "nbconvert_exporter": "python",
   "pygments_lexer": "ipython3",
   "version": "3.12.5"
  },
  "orig_nbformat": 4
 },
 "nbformat": 4,
 "nbformat_minor": 2
}
